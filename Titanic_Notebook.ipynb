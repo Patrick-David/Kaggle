{
 "cells": [
  {
   "cell_type": "code",
   "execution_count": 39,
   "metadata": {
    "collapsed": false
   },
   "outputs": [],
   "source": [
    "import pandas as pd\n",
    "import numpy as np\n",
    "import matplotlib.pyplot as plt\n",
    "import scipy\n",
    "import sklearn.cross_validation as cv\n",
    "from sklearn import preprocessing, metrics \n",
    "from sklearn.neighbors import KNeighborsClassifier\n",
    "\n",
    "import machineplot\n"
   ]
  },
  {
   "cell_type": "code",
   "execution_count": 40,
   "metadata": {
    "collapsed": false
   },
   "outputs": [
    {
     "name": "stdout",
     "output_type": "stream",
     "text": [
      "Populating the interactive namespace from numpy and matplotlib\n"
     ]
    }
   ],
   "source": [
    "%pylab inline"
   ]
  },
  {
   "cell_type": "markdown",
   "metadata": {},
   "source": [
    "First of all we need to load and prepare the data. I won't go into all the details of this \n",
    "because its not the purpose of this post, but I will describe some of the techniques used to \n",
    "transform the data into the required format, in order to be 'pushed' through our ML algorithms.\n"
   ]
  },
  {
   "cell_type": "markdown",
   "metadata": {},
   "source": [
    "So first we load the data and take a look at what we are dealing with.\n"
   ]
  },
  {
   "cell_type": "code",
   "execution_count": 58,
   "metadata": {
    "collapsed": false
   },
   "outputs": [
    {
     "name": "stdout",
     "output_type": "stream",
     "text": [
      "   PassengerId  Survived  Pclass  \\\n",
      "0            1         0       3   \n",
      "1            2         1       1   \n",
      "2            3         1       3   \n",
      "3            4         1       1   \n",
      "4            5         0       3   \n",
      "\n",
      "                                                Name     Sex  Age  SibSp  \\\n",
      "0                            Braund, Mr. Owen Harris    male   22      1   \n",
      "1  Cumings, Mrs. John Bradley (Florence Briggs Th...  female   38      1   \n",
      "2                             Heikkinen, Miss. Laina  female   26      0   \n",
      "3       Futrelle, Mrs. Jacques Heath (Lily May Peel)  female   35      1   \n",
      "4                           Allen, Mr. William Henry    male   35      0   \n",
      "\n",
      "   Parch            Ticket     Fare Cabin Embarked  \n",
      "0      0         A/5 21171   7.2500   NaN        S  \n",
      "1      0          PC 17599  71.2833   C85        C  \n",
      "2      0  STON/O2. 3101282   7.9250   NaN        S  \n",
      "3      0            113803  53.1000  C123        S  \n",
      "4      0            373450   8.0500   NaN        S  \n",
      "(891, 12)\n",
      "PassengerId      int64\n",
      "Survived         int64\n",
      "Pclass           int64\n",
      "Name            object\n",
      "Sex             object\n",
      "Age            float64\n",
      "SibSp            int64\n",
      "Parch            int64\n",
      "Ticket          object\n",
      "Fare           float64\n",
      "Cabin           object\n",
      "Embarked        object\n",
      "dtype: object\n"
     ]
    }
   ],
   "source": [
    "df  =pd.read_csv('C://Users//P//TitanicTrain.csv', sep = ',')\n",
    "\n",
    "print df.head()\n",
    "\n",
    "print df.dtypes\n",
    "\n",
    "print df.shape\n"
   ]
  },
  {
   "cell_type": "markdown",
   "metadata": {},
   "source": [
    "Using the isnull() function we can see the vast majority of the 'Cabin' feature are NaN's\n",
    "and so we will drop this column entirely. We will also drop the 'Name' feature, as really, the only useful\n",
    "information here is the gender of the passenger, which we already know from the 'Sex' feature.  \n"
   ]
  },
  {
   "cell_type": "code",
   "execution_count": 42,
   "metadata": {
    "collapsed": false
   },
   "outputs": [
    {
     "data": {
      "text/plain": [
       "PassengerId      0\n",
       "Survived         0\n",
       "Pclass           0\n",
       "Name             0\n",
       "Sex              0\n",
       "Age            177\n",
       "SibSp            0\n",
       "Parch            0\n",
       "Ticket           0\n",
       "Fare             0\n",
       "Cabin          687\n",
       "Embarked         2\n",
       "dtype: int64"
      ]
     },
     "execution_count": 42,
     "metadata": {},
     "output_type": "execute_result"
    }
   ],
   "source": [
    "df.isnull().sum()"
   ]
  },
  {
   "cell_type": "markdown",
   "metadata": {},
   "source": [
    "We have a small number of NaN's for the 'Age' feature, we could deal with this in a number of ways, \n",
    "but for now we will set any NaN's to be the 'mean' age , which is around 30 yrs old. \n",
    "(By default Pandas will make a copy of the dataframe, so we use inplace = True, to overide this).\n"
   ]
  },
  {
   "cell_type": "code",
   "execution_count": 43,
   "metadata": {
    "collapsed": true
   },
   "outputs": [],
   "source": [
    "df['Age'].describe()\n",
    "\n",
    "df['Age'].replace(NaN, 29, inplace = True)\n"
   ]
  },
  {
   "cell_type": "markdown",
   "metadata": {},
   "source": [
    "'Ticket' has a mix of string and integer values, so we could remove the string elements,\n",
    "which would allow us to use the 'Ticket' feature in our analysis. the following line of code would \n",
    "do this.\n"
   ]
  },
  {
   "cell_type": "markdown",
   "metadata": {},
   "source": [
    "df['Ticket'].replace(regex=True,inplace=True,to_replace=r'\\D',value=r'')\n"
   ]
  },
  {
   "cell_type": "markdown",
   "metadata": {},
   "source": [
    "However we will just drop the column for this excercise (as it doesnt have much significant \n",
    "predictive power anyway).\n"
   ]
  },
  {
   "cell_type": "markdown",
   "metadata": {},
   "source": [
    "Here we drop the aforementioned unwanted columns along with 'PassengerID' as we already have an index \n",
    "(and the two 'Embarked' NaN's).\n"
   ]
  },
  {
   "cell_type": "code",
   "execution_count": 45,
   "metadata": {
    "collapsed": true
   },
   "outputs": [],
   "source": [
    "df1 = df.drop(['Cabin','Name','Ticket','PassengerId'],1)\n",
    "df1 = df1.dropna(0)\n"
   ]
  },
  {
   "cell_type": "markdown",
   "metadata": {},
   "source": [
    "Next, as the Machine Learning algoritms that we will be using require numerical data\n",
    "for all feature values, we need to convert the 'string' values into a numerical format. \n"
   ]
  },
  {
   "cell_type": "code",
   "execution_count": 46,
   "metadata": {
    "collapsed": false
   },
   "outputs": [
    {
     "data": {
      "text/html": [
       "<div>\n",
       "<table border=\"1\" class=\"dataframe\">\n",
       "  <thead>\n",
       "    <tr style=\"text-align: right;\">\n",
       "      <th></th>\n",
       "      <th>Survived</th>\n",
       "      <th>Pclass</th>\n",
       "      <th>Age</th>\n",
       "      <th>SibSp</th>\n",
       "      <th>Parch</th>\n",
       "      <th>Fare</th>\n",
       "      <th>Sex_female</th>\n",
       "      <th>Sex_male</th>\n",
       "      <th>Embarked_C</th>\n",
       "      <th>Embarked_Q</th>\n",
       "      <th>Embarked_S</th>\n",
       "    </tr>\n",
       "  </thead>\n",
       "  <tbody>\n",
       "    <tr>\n",
       "      <th>0</th>\n",
       "      <td>0</td>\n",
       "      <td>3</td>\n",
       "      <td>22</td>\n",
       "      <td>1</td>\n",
       "      <td>0</td>\n",
       "      <td>7.2500</td>\n",
       "      <td>0</td>\n",
       "      <td>1</td>\n",
       "      <td>0</td>\n",
       "      <td>0</td>\n",
       "      <td>1</td>\n",
       "    </tr>\n",
       "    <tr>\n",
       "      <th>1</th>\n",
       "      <td>1</td>\n",
       "      <td>1</td>\n",
       "      <td>38</td>\n",
       "      <td>1</td>\n",
       "      <td>0</td>\n",
       "      <td>71.2833</td>\n",
       "      <td>1</td>\n",
       "      <td>0</td>\n",
       "      <td>1</td>\n",
       "      <td>0</td>\n",
       "      <td>0</td>\n",
       "    </tr>\n",
       "    <tr>\n",
       "      <th>2</th>\n",
       "      <td>1</td>\n",
       "      <td>3</td>\n",
       "      <td>26</td>\n",
       "      <td>0</td>\n",
       "      <td>0</td>\n",
       "      <td>7.9250</td>\n",
       "      <td>1</td>\n",
       "      <td>0</td>\n",
       "      <td>0</td>\n",
       "      <td>0</td>\n",
       "      <td>1</td>\n",
       "    </tr>\n",
       "    <tr>\n",
       "      <th>3</th>\n",
       "      <td>1</td>\n",
       "      <td>1</td>\n",
       "      <td>35</td>\n",
       "      <td>1</td>\n",
       "      <td>0</td>\n",
       "      <td>53.1000</td>\n",
       "      <td>1</td>\n",
       "      <td>0</td>\n",
       "      <td>0</td>\n",
       "      <td>0</td>\n",
       "      <td>1</td>\n",
       "    </tr>\n",
       "    <tr>\n",
       "      <th>4</th>\n",
       "      <td>0</td>\n",
       "      <td>3</td>\n",
       "      <td>35</td>\n",
       "      <td>0</td>\n",
       "      <td>0</td>\n",
       "      <td>8.0500</td>\n",
       "      <td>0</td>\n",
       "      <td>1</td>\n",
       "      <td>0</td>\n",
       "      <td>0</td>\n",
       "      <td>1</td>\n",
       "    </tr>\n",
       "  </tbody>\n",
       "</table>\n",
       "</div>"
      ],
      "text/plain": [
       "   Survived  Pclass  Age  SibSp  Parch     Fare  Sex_female  Sex_male  \\\n",
       "0         0       3   22      1      0   7.2500           0         1   \n",
       "1         1       1   38      1      0  71.2833           1         0   \n",
       "2         1       3   26      0      0   7.9250           1         0   \n",
       "3         1       1   35      1      0  53.1000           1         0   \n",
       "4         0       3   35      0      0   8.0500           0         1   \n",
       "\n",
       "   Embarked_C  Embarked_Q  Embarked_S  \n",
       "0           0           0           1  \n",
       "1           1           0           0  \n",
       "2           0           0           1  \n",
       "3           0           0           1  \n",
       "4           0           0           1  "
      ]
     },
     "execution_count": 46,
     "metadata": {},
     "output_type": "execute_result"
    }
   ],
   "source": [
    "X = pd.get_dummies(df1)\n",
    "X.head()\n"
   ]
  },
  {
   "cell_type": "markdown",
   "metadata": {},
   "source": [
    "Now the data is in the format we want it, we can seperate our Features as X values\n",
    "and the feature to be predicted ('Survived') as y.\n"
   ]
  },
  {
   "cell_type": "code",
   "execution_count": 47,
   "metadata": {
    "collapsed": true
   },
   "outputs": [],
   "source": [
    "y = X['Survived']\n",
    "X1 = X.drop(['Survived'],1)\n"
   ]
  },
  {
   "cell_type": "markdown",
   "metadata": {},
   "source": [
    "Our final Pandas DataFrames!\n"
   ]
  },
  {
   "cell_type": "code",
   "execution_count": 62,
   "metadata": {
    "collapsed": false
   },
   "outputs": [
    {
     "name": "stdout",
     "output_type": "stream",
     "text": [
      "[[ 0.82520863 -0.57964299  0.43135024 -0.47432585 -0.50023975 -0.73534203\n",
      "   0.73534203 -0.48271079 -0.30794088  0.61679395]\n",
      " [-1.57221121  0.65458337  0.43135024 -0.47432585  0.78894661  1.35991138\n",
      "  -1.35991138  2.07163382 -0.30794088 -1.62128697]\n",
      " [ 0.82520863 -0.2710864  -0.47519908 -0.47432585 -0.48664993  1.35991138\n",
      "  -1.35991138 -0.48271079 -0.30794088  0.61679395]\n",
      " [-1.57221121  0.42316593  0.43135024 -0.47432585  0.42286111  1.35991138\n",
      "  -1.35991138 -0.48271079 -0.30794088  0.61679395]\n",
      " [ 0.82520863  0.42316593 -0.47519908 -0.47432585 -0.4841333  -0.73534203\n",
      "   0.73534203 -0.48271079 -0.30794088  0.61679395]]\n",
      "(889, 10)\n",
      "(889,)\n"
     ]
    }
   ],
   "source": [
    "print X[:5]\n",
    "print X.shape\n",
    "print y.shape\n"
   ]
  },
  {
   "cell_type": "markdown",
   "metadata": {},
   "source": [
    "We then convert our Pandas DataFrame to a NumPy array, this makes it easier to use the \n",
    "Scikit-Learn functions on our data.\n"
   ]
  },
  {
   "cell_type": "code",
   "execution_count": 49,
   "metadata": {
    "collapsed": true
   },
   "outputs": [],
   "source": [
    "X = np.array(X1)\n",
    "y = np.array(y)\n"
   ]
  },
  {
   "cell_type": "markdown",
   "metadata": {},
   "source": [
    "This is our final data set which we will use for analysis and prediction.\n"
   ]
  },
  {
   "cell_type": "markdown",
   "metadata": {},
   "source": [
    "next we 'preprocess' the data so we have normalized values across all features\n",
    "and check our input feature and classifiers have the same number of rows.\n"
   ]
  },
  {
   "cell_type": "code",
   "execution_count": 64,
   "metadata": {
    "collapsed": false
   },
   "outputs": [
    {
     "name": "stdout",
     "output_type": "stream",
     "text": [
      "(889, 10)\n",
      "(889,)\n"
     ]
    }
   ],
   "source": [
    "X = preprocessing.scale(X)\n",
    "print X.shape\n",
    "print y.shape\n"
   ]
  },
  {
   "cell_type": "markdown",
   "metadata": {},
   "source": [
    "The final preperation of our data ready for running prediction on, is to split our data\n",
    "into the 'seen' training data and the 'unseen' test/validation data.\n",
    "we choose a 30 /70 split in this case.\n"
   ]
  },
  {
   "cell_type": "code",
   "execution_count": 63,
   "metadata": {
    "collapsed": false
   },
   "outputs": [
    {
     "name": "stdout",
     "output_type": "stream",
     "text": [
      "(622, 10)\n",
      "(622,)\n"
     ]
    }
   ],
   "source": [
    "Xtrain, Xtest, Ytrain, Ytest = cv.train_test_split(X,y,test_size = 0.3,\n",
    "                                                   random_state = 1)\n",
    "                                                   \n",
    "print Xtrain.shape                                                   \n",
    "print Ytrain.shape\n"
   ]
  },
  {
   "cell_type": "markdown",
   "metadata": {},
   "source": [
    "We are now in a position to visualise the data, an important part of the Machine Learning process. For this we will use the preview() function from the machineplot.py package, to get a visual on how our different features compare.\n",
    "\n",
    "The function takes the following parameters: \n",
    "data = final pandas dataframe\n",
    "X = X\n",
    "y = y\n",
    "feature_num1 = our first feature to compare(eg 1 which is 'Age')\n",
    "feature_num2 = second feature to view (eg  number 4 'Fare')\n"
   ]
  },
  {
   "cell_type": "markdown",
   "metadata": {},
   "source": [
    "(Note: preview() is designed to view how features compare against each other 1 vs 1 for each of two predictors, in our case Survived or not (0 or 1). As we have many dummy variables in ths example, I have chossen the two numerical feature 'Age' and 'Fare' to demonstrate the functions' capabilities.)\n",
    "\n"
   ]
  },
  {
   "cell_type": "markdown",
   "metadata": {},
   "source": [
    "Here we can see that more of the higher Fare paying passengers survived, also there seems to be a bias towards older passengers perishing vs younger.\n"
   ]
  },
  {
   "cell_type": "code",
   "execution_count": 52,
   "metadata": {
    "collapsed": false
   },
   "outputs": [
    {
     "data": {
      "image/png": "[encoded data removed]",
      "text/plain": [
       "<matplotlib.figure.Figure at 0x11303ed0>"
      ]
     },
     "metadata": {},
     "output_type": "display_data"
    }
   ],
   "source": [
    "machineplot.MLPlot().preview_plot(X1,X,y,1,4)\n"
   ]
  },
  {
   "cell_type": "markdown",
   "metadata": {},
   "source": [
    "We are now ready to run our classifier.\n",
    "for this we will use Scikit-Learn's K Nearest Neighbour Classifier and we will start with a nominal 1 'n_neighbors' and the default 'uniform' weights parameter.\n",
    "We first show the classifer our test data...\n"
   ]
  },
  {
   "cell_type": "code",
   "execution_count": 53,
   "metadata": {
    "collapsed": false
   },
   "outputs": [
    {
     "data": {
      "text/plain": [
       "KNeighborsClassifier(algorithm='auto', leaf_size=30, metric='minkowski',\n",
       "           metric_params=None, n_neighbors=1, p=2, weights='uniform')"
      ]
     },
     "execution_count": 53,
     "metadata": {},
     "output_type": "execute_result"
    }
   ],
   "source": [
    "knn1= KNeighborsClassifier(n_neighbors = 1)\n",
    "knn1.fit(Xtrain,Ytrain)\n"
   ]
  },
  {
   "cell_type": "markdown",
   "metadata": {},
   "source": [
    "Now we have our classifer built from the training set, we will attempt a prediction on the test/validation set.\n"
   ]
  },
  {
   "cell_type": "code",
   "execution_count": 54,
   "metadata": {
    "collapsed": true
   },
   "outputs": [],
   "source": [
    "k1pred = knn1.predict(Xtest)\n"
   ]
  },
  {
   "cell_type": "markdown",
   "metadata": {},
   "source": [
    "Here is the output from this first attempt at a classifer.\n",
    "A combined f1-score of 78 is not bad, but lets see if we can improve on this...\n"
   ]
  },
  {
   "cell_type": "code",
   "execution_count": 55,
   "metadata": {
    "collapsed": false
   },
   "outputs": [
    {
     "name": "stdout",
     "output_type": "stream",
     "text": [
      "             precision    recall  f1-score   support\n",
      "\n",
      "          0       0.83      0.81      0.82       166\n",
      "          1       0.70      0.73      0.72       101\n",
      "\n",
      "avg / total       0.78      0.78      0.78       267\n",
      "\n"
     ]
    }
   ],
   "source": [
    "print metrics.classification_report(Ytest, k1pred)\n"
   ]
  },
  {
   "cell_type": "markdown",
   "metadata": {},
   "source": [
    "In our first attempt we used nominal parameters for our K Nearest Neighbor classifer. \n",
    "Now I will demonstrate how to use 'Grid Search' combined with grid_plot() from the 'machineplot' package to improve on this performance and visualise the results. \n"
   ]
  },
  {
   "cell_type": "markdown",
   "metadata": {},
   "source": [
    "The grid_knn() function searches for the optimal parameters for the K Nearest Neighbors classifier and shows this in the form of a visualisation.\n",
    "It then returns the performance metrics of the new optimized classifier and returns its predictive performance on the cross validation Ytrain data.\n",
    "As we can see, we have increased our performance from 78% up to 83% : \n",
    "a not insignificant improvement."
   ]
  },
  {
   "cell_type": "code",
   "execution_count": 56,
   "metadata": {
    "collapsed": false
   },
   "outputs": [
    {
     "name": "stdout",
     "output_type": "stream",
     "text": [
      "optimal n_neighbors: 7\n",
      "optimal weight: uniform\n"
     ]
    },
    {
     "data": {
      "image/png": "[encoded data removed]",
      "text/plain": [
       "<matplotlib.figure.Figure at 0x113df9d0>"
      ]
     },
     "metadata": {},
     "output_type": "display_data"
    },
    {
     "name": "stdout",
     "output_type": "stream",
     "text": [
      "this is performance of optimal classifier on Ytest              precision    recall  f1-score   support\n",
      "\n",
      "          0       0.85      0.88      0.87       166\n",
      "          1       0.79      0.75      0.77       101\n",
      "\n",
      "avg / total       0.83      0.83      0.83       267\n",
      "\n"
     ]
    }
   ],
   "source": [
    "machineplot.MLPlot().grid_knn(40,Xtrain,Ytrain,Xtest=Xtest,Ytest=Ytest, cv=10)"
   ]
  },
  {
   "cell_type": "code",
   "execution_count": null,
   "metadata": {
    "collapsed": true
   },
   "outputs": [],
   "source": []
  }
 ],
 "metadata": {
  "kernelspec": {
   "display_name": "Python 2",
   "language": "python",
   "name": "python2"
  },
  "language_info": {
   "codemirror_mode": {
    "name": "ipython",
    "version": 2
   },
   "file_extension": ".py",
   "mimetype": "text/x-python",
   "name": "python",
   "nbconvert_exporter": "python",
   "pygments_lexer": "ipython2",
   "version": "2.7.11"
  }
 },
 "nbformat": 4,
 "nbformat_minor": 0
}
